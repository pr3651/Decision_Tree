{
 "cells": [
  {
   "cell_type": "markdown",
   "metadata": {},
   "source": [
    "## Import  the libraries"
   ]
  },
  {
   "cell_type": "code",
   "execution_count": 1,
   "metadata": {},
   "outputs": [],
   "source": [
    "import warnings\n",
    "warnings.simplefilter('ignore')"
   ]
  },
  {
   "cell_type": "code",
   "execution_count": 2,
   "metadata": {},
   "outputs": [],
   "source": [
    "import numpy as np\n",
    "import pandas as pd"
   ]
  },
  {
   "cell_type": "markdown",
   "metadata": {},
   "source": [
    "## Import data Visualization library"
   ]
  },
  {
   "cell_type": "code",
   "execution_count": 3,
   "metadata": {},
   "outputs": [],
   "source": [
    "import seaborn as sns\n",
    "import matplotlib.pyplot as plt\n",
    "%matplotlib inline"
   ]
  },
  {
   "cell_type": "markdown",
   "metadata": {},
   "source": [
    "## Import the dataset"
   ]
  },
  {
   "cell_type": "code",
   "execution_count": 4,
   "metadata": {},
   "outputs": [
    {
     "data": {
      "text/html": [
       "<div>\n",
       "<style scoped>\n",
       "    .dataframe tbody tr th:only-of-type {\n",
       "        vertical-align: middle;\n",
       "    }\n",
       "\n",
       "    .dataframe tbody tr th {\n",
       "        vertical-align: top;\n",
       "    }\n",
       "\n",
       "    .dataframe thead th {\n",
       "        text-align: right;\n",
       "    }\n",
       "</style>\n",
       "<table border=\"1\" class=\"dataframe\">\n",
       "  <thead>\n",
       "    <tr style=\"text-align: right;\">\n",
       "      <th></th>\n",
       "      <th>S.NO</th>\n",
       "      <th>ATTENDANCE</th>\n",
       "      <th>THEORY EXAM</th>\n",
       "      <th>DAILY ASSESSMENT</th>\n",
       "      <th>TOTAL</th>\n",
       "      <th>CERTIFICATE</th>\n",
       "    </tr>\n",
       "  </thead>\n",
       "  <tbody>\n",
       "    <tr>\n",
       "      <td>0</td>\n",
       "      <td>1</td>\n",
       "      <td>20</td>\n",
       "      <td>38</td>\n",
       "      <td>25</td>\n",
       "      <td>83</td>\n",
       "      <td>DISTINCTION</td>\n",
       "    </tr>\n",
       "    <tr>\n",
       "      <td>1</td>\n",
       "      <td>2</td>\n",
       "      <td>15</td>\n",
       "      <td>25</td>\n",
       "      <td>0</td>\n",
       "      <td>40</td>\n",
       "      <td>COMPLETION</td>\n",
       "    </tr>\n",
       "    <tr>\n",
       "      <td>2</td>\n",
       "      <td>3</td>\n",
       "      <td>20</td>\n",
       "      <td>31</td>\n",
       "      <td>25</td>\n",
       "      <td>76</td>\n",
       "      <td>FIRST CLASS</td>\n",
       "    </tr>\n",
       "    <tr>\n",
       "      <td>3</td>\n",
       "      <td>4</td>\n",
       "      <td>20</td>\n",
       "      <td>25</td>\n",
       "      <td>25</td>\n",
       "      <td>70</td>\n",
       "      <td>FIRST CLASS</td>\n",
       "    </tr>\n",
       "    <tr>\n",
       "      <td>4</td>\n",
       "      <td>5</td>\n",
       "      <td>20</td>\n",
       "      <td>17</td>\n",
       "      <td>15</td>\n",
       "      <td>52</td>\n",
       "      <td>FIRST CLASS</td>\n",
       "    </tr>\n",
       "    <tr>\n",
       "      <td>...</td>\n",
       "      <td>...</td>\n",
       "      <td>...</td>\n",
       "      <td>...</td>\n",
       "      <td>...</td>\n",
       "      <td>...</td>\n",
       "      <td>...</td>\n",
       "    </tr>\n",
       "    <tr>\n",
       "      <td>362</td>\n",
       "      <td>363</td>\n",
       "      <td>15</td>\n",
       "      <td>0</td>\n",
       "      <td>10</td>\n",
       "      <td>25</td>\n",
       "      <td>PARTICIPATION</td>\n",
       "    </tr>\n",
       "    <tr>\n",
       "      <td>363</td>\n",
       "      <td>364</td>\n",
       "      <td>20</td>\n",
       "      <td>9</td>\n",
       "      <td>25</td>\n",
       "      <td>54</td>\n",
       "      <td>COMPLETION</td>\n",
       "    </tr>\n",
       "    <tr>\n",
       "      <td>364</td>\n",
       "      <td>365</td>\n",
       "      <td>15</td>\n",
       "      <td>20</td>\n",
       "      <td>25</td>\n",
       "      <td>60</td>\n",
       "      <td>FIRST CLASS</td>\n",
       "    </tr>\n",
       "    <tr>\n",
       "      <td>365</td>\n",
       "      <td>366</td>\n",
       "      <td>15</td>\n",
       "      <td>0</td>\n",
       "      <td>10</td>\n",
       "      <td>25</td>\n",
       "      <td>PARTICIPATION</td>\n",
       "    </tr>\n",
       "    <tr>\n",
       "      <td>366</td>\n",
       "      <td>367</td>\n",
       "      <td>20</td>\n",
       "      <td>23</td>\n",
       "      <td>10</td>\n",
       "      <td>53</td>\n",
       "      <td>COMPLETION</td>\n",
       "    </tr>\n",
       "  </tbody>\n",
       "</table>\n",
       "<p>367 rows × 6 columns</p>\n",
       "</div>"
      ],
      "text/plain": [
       "     S.NO  ATTENDANCE  THEORY EXAM  DAILY ASSESSMENT  TOTAL    CERTIFICATE\n",
       "0       1          20           38                25     83    DISTINCTION\n",
       "1       2          15           25                 0     40     COMPLETION\n",
       "2       3          20           31                25     76    FIRST CLASS\n",
       "3       4          20           25                25     70    FIRST CLASS\n",
       "4       5          20           17                15     52    FIRST CLASS\n",
       "..    ...         ...          ...               ...    ...            ...\n",
       "362   363          15            0                10     25  PARTICIPATION\n",
       "363   364          20            9                25     54     COMPLETION\n",
       "364   365          15           20                25     60    FIRST CLASS\n",
       "365   366          15            0                10     25  PARTICIPATION\n",
       "366   367          20           23                10     53     COMPLETION\n",
       "\n",
       "[367 rows x 6 columns]"
      ]
     },
     "execution_count": 4,
     "metadata": {},
     "output_type": "execute_result"
    }
   ],
   "source": [
    "student_certification=pd.read_excel('student_dataset.xlsx')\n",
    "student_certification"
   ]
  },
  {
   "cell_type": "markdown",
   "metadata": {},
   "source": [
    "## Slicing the dataset"
   ]
  },
  {
   "cell_type": "code",
   "execution_count": 5,
   "metadata": {},
   "outputs": [
    {
     "data": {
      "text/plain": [
       "Index(['S.NO', 'ATTENDANCE', 'THEORY EXAM', 'DAILY ASSESSMENT', 'TOTAL',\n",
       "       'CERTIFICATE'],\n",
       "      dtype='object')"
      ]
     },
     "execution_count": 5,
     "metadata": {},
     "output_type": "execute_result"
    }
   ],
   "source": [
    "student_certification.columns"
   ]
  },
  {
   "cell_type": "code",
   "execution_count": 6,
   "metadata": {},
   "outputs": [
    {
     "data": {
      "text/html": [
       "<div>\n",
       "<style scoped>\n",
       "    .dataframe tbody tr th:only-of-type {\n",
       "        vertical-align: middle;\n",
       "    }\n",
       "\n",
       "    .dataframe tbody tr th {\n",
       "        vertical-align: top;\n",
       "    }\n",
       "\n",
       "    .dataframe thead th {\n",
       "        text-align: right;\n",
       "    }\n",
       "</style>\n",
       "<table border=\"1\" class=\"dataframe\">\n",
       "  <thead>\n",
       "    <tr style=\"text-align: right;\">\n",
       "      <th></th>\n",
       "      <th>ATTENDANCE</th>\n",
       "      <th>THEORY EXAM</th>\n",
       "      <th>DAILY ASSESSMENT</th>\n",
       "      <th>CERTIFICATE</th>\n",
       "    </tr>\n",
       "  </thead>\n",
       "  <tbody>\n",
       "    <tr>\n",
       "      <td>0</td>\n",
       "      <td>20</td>\n",
       "      <td>38</td>\n",
       "      <td>25</td>\n",
       "      <td>DISTINCTION</td>\n",
       "    </tr>\n",
       "    <tr>\n",
       "      <td>1</td>\n",
       "      <td>15</td>\n",
       "      <td>25</td>\n",
       "      <td>0</td>\n",
       "      <td>COMPLETION</td>\n",
       "    </tr>\n",
       "    <tr>\n",
       "      <td>2</td>\n",
       "      <td>20</td>\n",
       "      <td>31</td>\n",
       "      <td>25</td>\n",
       "      <td>FIRST CLASS</td>\n",
       "    </tr>\n",
       "    <tr>\n",
       "      <td>3</td>\n",
       "      <td>20</td>\n",
       "      <td>25</td>\n",
       "      <td>25</td>\n",
       "      <td>FIRST CLASS</td>\n",
       "    </tr>\n",
       "    <tr>\n",
       "      <td>4</td>\n",
       "      <td>20</td>\n",
       "      <td>17</td>\n",
       "      <td>15</td>\n",
       "      <td>FIRST CLASS</td>\n",
       "    </tr>\n",
       "    <tr>\n",
       "      <td>...</td>\n",
       "      <td>...</td>\n",
       "      <td>...</td>\n",
       "      <td>...</td>\n",
       "      <td>...</td>\n",
       "    </tr>\n",
       "    <tr>\n",
       "      <td>362</td>\n",
       "      <td>15</td>\n",
       "      <td>0</td>\n",
       "      <td>10</td>\n",
       "      <td>PARTICIPATION</td>\n",
       "    </tr>\n",
       "    <tr>\n",
       "      <td>363</td>\n",
       "      <td>20</td>\n",
       "      <td>9</td>\n",
       "      <td>25</td>\n",
       "      <td>COMPLETION</td>\n",
       "    </tr>\n",
       "    <tr>\n",
       "      <td>364</td>\n",
       "      <td>15</td>\n",
       "      <td>20</td>\n",
       "      <td>25</td>\n",
       "      <td>FIRST CLASS</td>\n",
       "    </tr>\n",
       "    <tr>\n",
       "      <td>365</td>\n",
       "      <td>15</td>\n",
       "      <td>0</td>\n",
       "      <td>10</td>\n",
       "      <td>PARTICIPATION</td>\n",
       "    </tr>\n",
       "    <tr>\n",
       "      <td>366</td>\n",
       "      <td>20</td>\n",
       "      <td>23</td>\n",
       "      <td>10</td>\n",
       "      <td>COMPLETION</td>\n",
       "    </tr>\n",
       "  </tbody>\n",
       "</table>\n",
       "<p>367 rows × 4 columns</p>\n",
       "</div>"
      ],
      "text/plain": [
       "     ATTENDANCE  THEORY EXAM  DAILY ASSESSMENT    CERTIFICATE\n",
       "0            20           38                25    DISTINCTION\n",
       "1            15           25                 0     COMPLETION\n",
       "2            20           31                25    FIRST CLASS\n",
       "3            20           25                25    FIRST CLASS\n",
       "4            20           17                15    FIRST CLASS\n",
       "..          ...          ...               ...            ...\n",
       "362          15            0                10  PARTICIPATION\n",
       "363          20            9                25     COMPLETION\n",
       "364          15           20                25    FIRST CLASS\n",
       "365          15            0                10  PARTICIPATION\n",
       "366          20           23                10     COMPLETION\n",
       "\n",
       "[367 rows x 4 columns]"
      ]
     },
     "execution_count": 6,
     "metadata": {},
     "output_type": "execute_result"
    }
   ],
   "source": [
    "student_certification=student_certification.drop(['S.NO','TOTAL'],axis=1)\n",
    "student_certification"
   ]
  },
  {
   "cell_type": "markdown",
   "metadata": {},
   "source": [
    "## Information regarding the dataset"
   ]
  },
  {
   "cell_type": "code",
   "execution_count": 7,
   "metadata": {},
   "outputs": [
    {
     "data": {
      "text/plain": [
       "array(['DISTINCTION', 'COMPLETION', 'FIRST CLASS', 'PARTICIPATION'],\n",
       "      dtype=object)"
      ]
     },
     "execution_count": 7,
     "metadata": {},
     "output_type": "execute_result"
    }
   ],
   "source": [
    "student_certification['CERTIFICATE'].unique()"
   ]
  },
  {
   "cell_type": "code",
   "execution_count": 8,
   "metadata": {},
   "outputs": [
    {
     "data": {
      "text/plain": [
       "(367, 4)"
      ]
     },
     "execution_count": 8,
     "metadata": {},
     "output_type": "execute_result"
    }
   ],
   "source": [
    "student_certification.shape"
   ]
  },
  {
   "cell_type": "code",
   "execution_count": 9,
   "metadata": {},
   "outputs": [
    {
     "data": {
      "text/plain": [
       "CERTIFICATE\n",
       "COMPLETION       117\n",
       "DISTINCTION       32\n",
       "FIRST CLASS       67\n",
       "PARTICIPATION    151\n",
       "dtype: int64"
      ]
     },
     "execution_count": 9,
     "metadata": {},
     "output_type": "execute_result"
    }
   ],
   "source": [
    "student_certification.groupby('CERTIFICATE').size()"
   ]
  },
  {
   "cell_type": "code",
   "execution_count": 10,
   "metadata": {},
   "outputs": [
    {
     "data": {
      "text/plain": [
       "<matplotlib.axes._subplots.AxesSubplot at 0x1e872e3d708>"
      ]
     },
     "execution_count": 10,
     "metadata": {},
     "output_type": "execute_result"
    },
    {
     "data": {
      "image/png": "[encoded data removed]",
      "text/plain": [
       "<Figure size 432x288 with 1 Axes>"
      ]
     },
     "metadata": {
      "needs_background": "light"
     },
     "output_type": "display_data"
    }
   ],
   "source": [
    "sns.countplot(student_certification['CERTIFICATE'],label='count')"
   ]
  },
  {
   "cell_type": "code",
   "execution_count": 11,
   "metadata": {},
   "outputs": [
    {
     "data": {
      "text/html": [
       "<div>\n",
       "<style scoped>\n",
       "    .dataframe tbody tr th:only-of-type {\n",
       "        vertical-align: middle;\n",
       "    }\n",
       "\n",
       "    .dataframe tbody tr th {\n",
       "        vertical-align: top;\n",
       "    }\n",
       "\n",
       "    .dataframe thead th {\n",
       "        text-align: right;\n",
       "    }\n",
       "</style>\n",
       "<table border=\"1\" class=\"dataframe\">\n",
       "  <thead>\n",
       "    <tr style=\"text-align: right;\">\n",
       "      <th></th>\n",
       "      <th>ATTENDANCE</th>\n",
       "      <th>THEORY EXAM</th>\n",
       "      <th>DAILY ASSESSMENT</th>\n",
       "      <th>CERTIFICATE</th>\n",
       "    </tr>\n",
       "  </thead>\n",
       "  <tbody>\n",
       "    <tr>\n",
       "      <td>0</td>\n",
       "      <td>20</td>\n",
       "      <td>38</td>\n",
       "      <td>25</td>\n",
       "      <td>DISTINCTION</td>\n",
       "    </tr>\n",
       "    <tr>\n",
       "      <td>1</td>\n",
       "      <td>15</td>\n",
       "      <td>25</td>\n",
       "      <td>0</td>\n",
       "      <td>COMPLETION</td>\n",
       "    </tr>\n",
       "    <tr>\n",
       "      <td>2</td>\n",
       "      <td>20</td>\n",
       "      <td>31</td>\n",
       "      <td>25</td>\n",
       "      <td>FIRST CLASS</td>\n",
       "    </tr>\n",
       "    <tr>\n",
       "      <td>3</td>\n",
       "      <td>20</td>\n",
       "      <td>25</td>\n",
       "      <td>25</td>\n",
       "      <td>FIRST CLASS</td>\n",
       "    </tr>\n",
       "    <tr>\n",
       "      <td>4</td>\n",
       "      <td>20</td>\n",
       "      <td>17</td>\n",
       "      <td>15</td>\n",
       "      <td>FIRST CLASS</td>\n",
       "    </tr>\n",
       "    <tr>\n",
       "      <td>...</td>\n",
       "      <td>...</td>\n",
       "      <td>...</td>\n",
       "      <td>...</td>\n",
       "      <td>...</td>\n",
       "    </tr>\n",
       "    <tr>\n",
       "      <td>362</td>\n",
       "      <td>15</td>\n",
       "      <td>0</td>\n",
       "      <td>10</td>\n",
       "      <td>PARTICIPATION</td>\n",
       "    </tr>\n",
       "    <tr>\n",
       "      <td>363</td>\n",
       "      <td>20</td>\n",
       "      <td>9</td>\n",
       "      <td>25</td>\n",
       "      <td>COMPLETION</td>\n",
       "    </tr>\n",
       "    <tr>\n",
       "      <td>364</td>\n",
       "      <td>15</td>\n",
       "      <td>20</td>\n",
       "      <td>25</td>\n",
       "      <td>FIRST CLASS</td>\n",
       "    </tr>\n",
       "    <tr>\n",
       "      <td>365</td>\n",
       "      <td>15</td>\n",
       "      <td>0</td>\n",
       "      <td>10</td>\n",
       "      <td>PARTICIPATION</td>\n",
       "    </tr>\n",
       "    <tr>\n",
       "      <td>366</td>\n",
       "      <td>20</td>\n",
       "      <td>23</td>\n",
       "      <td>10</td>\n",
       "      <td>COMPLETION</td>\n",
       "    </tr>\n",
       "  </tbody>\n",
       "</table>\n",
       "<p>367 rows × 4 columns</p>\n",
       "</div>"
      ],
      "text/plain": [
       "     ATTENDANCE  THEORY EXAM  DAILY ASSESSMENT    CERTIFICATE\n",
       "0            20           38                25    DISTINCTION\n",
       "1            15           25                 0     COMPLETION\n",
       "2            20           31                25    FIRST CLASS\n",
       "3            20           25                25    FIRST CLASS\n",
       "4            20           17                15    FIRST CLASS\n",
       "..          ...          ...               ...            ...\n",
       "362          15            0                10  PARTICIPATION\n",
       "363          20            9                25     COMPLETION\n",
       "364          15           20                25    FIRST CLASS\n",
       "365          15            0                10  PARTICIPATION\n",
       "366          20           23                10     COMPLETION\n",
       "\n",
       "[367 rows x 4 columns]"
      ]
     },
     "execution_count": 11,
     "metadata": {},
     "output_type": "execute_result"
    }
   ],
   "source": [
    "student_certification"
   ]
  },
  {
   "cell_type": "markdown",
   "metadata": {},
   "source": [
    "## Segregating the dataset"
   ]
  },
  {
   "cell_type": "code",
   "execution_count": 12,
   "metadata": {},
   "outputs": [],
   "source": [
    "y=student_certification.iloc[:,-1].values.reshape(-1,1)"
   ]
  },
  {
   "cell_type": "code",
   "execution_count": 13,
   "metadata": {},
   "outputs": [
    {
     "data": {
      "text/plain": [
       "(367, 1)"
      ]
     },
     "execution_count": 13,
     "metadata": {},
     "output_type": "execute_result"
    }
   ],
   "source": [
    "y.shape"
   ]
  },
  {
   "cell_type": "code",
   "execution_count": 14,
   "metadata": {},
   "outputs": [
    {
     "data": {
      "text/plain": [
       "array([['DISTINCTION'],\n",
       "       ['COMPLETION'],\n",
       "       ['FIRST CLASS'],\n",
       "       ['FIRST CLASS'],\n",
       "       ['FIRST CLASS'],\n",
       "       ['COMPLETION'],\n",
       "       ['FIRST CLASS'],\n",
       "       ['FIRST CLASS'],\n",
       "       ['COMPLETION'],\n",
       "       ['FIRST CLASS'],\n",
       "       ['COMPLETION'],\n",
       "       ['FIRST CLASS'],\n",
       "       ['FIRST CLASS'],\n",
       "       ['FIRST CLASS'],\n",
       "       ['COMPLETION'],\n",
       "       ['PARTICIPATION'],\n",
       "       ['COMPLETION'],\n",
       "       ['COMPLETION'],\n",
       "       ['FIRST CLASS'],\n",
       "       ['COMPLETION'],\n",
       "       ['FIRST CLASS'],\n",
       "       ['DISTINCTION'],\n",
       "       ['FIRST CLASS'],\n",
       "       ['PARTICIPATION'],\n",
       "       ['DISTINCTION'],\n",
       "       ['COMPLETION'],\n",
       "       ['FIRST CLASS'],\n",
       "       ['DISTINCTION'],\n",
       "       ['FIRST CLASS'],\n",
       "       ['DISTINCTION'],\n",
       "       ['COMPLETION'],\n",
       "       ['COMPLETION'],\n",
       "       ['COMPLETION'],\n",
       "       ['PARTICIPATION'],\n",
       "       ['FIRST CLASS'],\n",
       "       ['COMPLETION'],\n",
       "       ['COMPLETION'],\n",
       "       ['COMPLETION'],\n",
       "       ['DISTINCTION'],\n",
       "       ['FIRST CLASS'],\n",
       "       ['DISTINCTION'],\n",
       "       ['COMPLETION'],\n",
       "       ['DISTINCTION'],\n",
       "       ['DISTINCTION'],\n",
       "       ['FIRST CLASS'],\n",
       "       ['COMPLETION'],\n",
       "       ['COMPLETION'],\n",
       "       ['COMPLETION'],\n",
       "       ['PARTICIPATION'],\n",
       "       ['COMPLETION'],\n",
       "       ['DISTINCTION'],\n",
       "       ['FIRST CLASS'],\n",
       "       ['FIRST CLASS'],\n",
       "       ['FIRST CLASS'],\n",
       "       ['COMPLETION'],\n",
       "       ['PARTICIPATION'],\n",
       "       ['COMPLETION'],\n",
       "       ['FIRST CLASS'],\n",
       "       ['COMPLETION'],\n",
       "       ['DISTINCTION'],\n",
       "       ['FIRST CLASS'],\n",
       "       ['FIRST CLASS'],\n",
       "       ['FIRST CLASS'],\n",
       "       ['DISTINCTION'],\n",
       "       ['COMPLETION'],\n",
       "       ['PARTICIPATION'],\n",
       "       ['DISTINCTION'],\n",
       "       ['COMPLETION'],\n",
       "       ['PARTICIPATION'],\n",
       "       ['PARTICIPATION'],\n",
       "       ['COMPLETION'],\n",
       "       ['PARTICIPATION'],\n",
       "       ['DISTINCTION'],\n",
       "       ['PARTICIPATION'],\n",
       "       ['COMPLETION'],\n",
       "       ['COMPLETION'],\n",
       "       ['PARTICIPATION'],\n",
       "       ['PARTICIPATION'],\n",
       "       ['PARTICIPATION'],\n",
       "       ['PARTICIPATION'],\n",
       "       ['DISTINCTION'],\n",
       "       ['COMPLETION'],\n",
       "       ['FIRST CLASS'],\n",
       "       ['COMPLETION'],\n",
       "       ['PARTICIPATION'],\n",
       "       ['PARTICIPATION'],\n",
       "       ['COMPLETION'],\n",
       "       ['PARTICIPATION'],\n",
       "       ['PARTICIPATION'],\n",
       "       ['FIRST CLASS'],\n",
       "       ['PARTICIPATION'],\n",
       "       ['PARTICIPATION'],\n",
       "       ['PARTICIPATION'],\n",
       "       ['FIRST CLASS'],\n",
       "       ['FIRST CLASS'],\n",
       "       ['COMPLETION'],\n",
       "       ['FIRST CLASS'],\n",
       "       ['COMPLETION'],\n",
       "       ['COMPLETION'],\n",
       "       ['DISTINCTION'],\n",
       "       ['COMPLETION'],\n",
       "       ['DISTINCTION'],\n",
       "       ['DISTINCTION'],\n",
       "       ['FIRST CLASS'],\n",
       "       ['DISTINCTION'],\n",
       "       ['FIRST CLASS'],\n",
       "       ['PARTICIPATION'],\n",
       "       ['DISTINCTION'],\n",
       "       ['COMPLETION'],\n",
       "       ['PARTICIPATION'],\n",
       "       ['PARTICIPATION'],\n",
       "       ['DISTINCTION'],\n",
       "       ['PARTICIPATION'],\n",
       "       ['COMPLETION'],\n",
       "       ['PARTICIPATION'],\n",
       "       ['COMPLETION'],\n",
       "       ['COMPLETION'],\n",
       "       ['PARTICIPATION'],\n",
       "       ['COMPLETION'],\n",
       "       ['PARTICIPATION'],\n",
       "       ['PARTICIPATION'],\n",
       "       ['PARTICIPATION'],\n",
       "       ['PARTICIPATION'],\n",
       "       ['PARTICIPATION'],\n",
       "       ['PARTICIPATION'],\n",
       "       ['PARTICIPATION'],\n",
       "       ['PARTICIPATION'],\n",
       "       ['PARTICIPATION'],\n",
       "       ['PARTICIPATION'],\n",
       "       ['PARTICIPATION'],\n",
       "       ['PARTICIPATION'],\n",
       "       ['DISTINCTION'],\n",
       "       ['PARTICIPATION'],\n",
       "       ['COMPLETION'],\n",
       "       ['COMPLETION'],\n",
       "       ['PARTICIPATION'],\n",
       "       ['PARTICIPATION'],\n",
       "       ['PARTICIPATION'],\n",
       "       ['PARTICIPATION'],\n",
       "       ['PARTICIPATION'],\n",
       "       ['PARTICIPATION'],\n",
       "       ['COMPLETION'],\n",
       "       ['PARTICIPATION'],\n",
       "       ['PARTICIPATION'],\n",
       "       ['PARTICIPATION'],\n",
       "       ['PARTICIPATION'],\n",
       "       ['PARTICIPATION'],\n",
       "       ['PARTICIPATION'],\n",
       "       ['DISTINCTION'],\n",
       "       ['COMPLETION'],\n",
       "       ['PARTICIPATION'],\n",
       "       ['PARTICIPATION'],\n",
       "       ['PARTICIPATION'],\n",
       "       ['PARTICIPATION'],\n",
       "       ['PARTICIPATION'],\n",
       "       ['PARTICIPATION'],\n",
       "       ['PARTICIPATION'],\n",
       "       ['PARTICIPATION'],\n",
       "       ['PARTICIPATION'],\n",
       "       ['PARTICIPATION'],\n",
       "       ['PARTICIPATION'],\n",
       "       ['PARTICIPATION'],\n",
       "       ['DISTINCTION'],\n",
       "       ['PARTICIPATION'],\n",
       "       ['DISTINCTION'],\n",
       "       ['PARTICIPATION'],\n",
       "       ['PARTICIPATION'],\n",
       "       ['PARTICIPATION'],\n",
       "       ['PARTICIPATION'],\n",
       "       ['PARTICIPATION'],\n",
       "       ['PARTICIPATION'],\n",
       "       ['PARTICIPATION'],\n",
       "       ['PARTICIPATION'],\n",
       "       ['PARTICIPATION'],\n",
       "       ['PARTICIPATION'],\n",
       "       ['PARTICIPATION'],\n",
       "       ['COMPLETION'],\n",
       "       ['COMPLETION'],\n",
       "       ['COMPLETION'],\n",
       "       ['PARTICIPATION'],\n",
       "       ['PARTICIPATION'],\n",
       "       ['PARTICIPATION'],\n",
       "       ['PARTICIPATION'],\n",
       "       ['PARTICIPATION'],\n",
       "       ['PARTICIPATION'],\n",
       "       ['COMPLETION'],\n",
       "       ['PARTICIPATION'],\n",
       "       ['COMPLETION'],\n",
       "       ['DISTINCTION'],\n",
       "       ['DISTINCTION'],\n",
       "       ['COMPLETION'],\n",
       "       ['FIRST CLASS'],\n",
       "       ['COMPLETION'],\n",
       "       ['FIRST CLASS'],\n",
       "       ['COMPLETION'],\n",
       "       ['FIRST CLASS'],\n",
       "       ['COMPLETION'],\n",
       "       ['COMPLETION'],\n",
       "       ['FIRST CLASS'],\n",
       "       ['COMPLETION'],\n",
       "       ['COMPLETION'],\n",
       "       ['PARTICIPATION'],\n",
       "       ['COMPLETION'],\n",
       "       ['COMPLETION'],\n",
       "       ['FIRST CLASS'],\n",
       "       ['COMPLETION'],\n",
       "       ['FIRST CLASS'],\n",
       "       ['FIRST CLASS'],\n",
       "       ['COMPLETION'],\n",
       "       ['PARTICIPATION'],\n",
       "       ['DISTINCTION'],\n",
       "       ['PARTICIPATION'],\n",
       "       ['COMPLETION'],\n",
       "       ['FIRST CLASS'],\n",
       "       ['COMPLETION'],\n",
       "       ['DISTINCTION'],\n",
       "       ['COMPLETION'],\n",
       "       ['COMPLETION'],\n",
       "       ['COMPLETION'],\n",
       "       ['FIRST CLASS'],\n",
       "       ['FIRST CLASS'],\n",
       "       ['FIRST CLASS'],\n",
       "       ['COMPLETION'],\n",
       "       ['FIRST CLASS'],\n",
       "       ['FIRST CLASS'],\n",
       "       ['FIRST CLASS'],\n",
       "       ['COMPLETION'],\n",
       "       ['FIRST CLASS'],\n",
       "       ['FIRST CLASS'],\n",
       "       ['PARTICIPATION'],\n",
       "       ['COMPLETION'],\n",
       "       ['DISTINCTION'],\n",
       "       ['PARTICIPATION'],\n",
       "       ['FIRST CLASS'],\n",
       "       ['PARTICIPATION'],\n",
       "       ['PARTICIPATION'],\n",
       "       ['DISTINCTION'],\n",
       "       ['FIRST CLASS'],\n",
       "       ['DISTINCTION'],\n",
       "       ['COMPLETION'],\n",
       "       ['PARTICIPATION'],\n",
       "       ['FIRST CLASS'],\n",
       "       ['FIRST CLASS'],\n",
       "       ['FIRST CLASS'],\n",
       "       ['FIRST CLASS'],\n",
       "       ['PARTICIPATION'],\n",
       "       ['COMPLETION'],\n",
       "       ['COMPLETION'],\n",
       "       ['PARTICIPATION'],\n",
       "       ['PARTICIPATION'],\n",
       "       ['PARTICIPATION'],\n",
       "       ['COMPLETION'],\n",
       "       ['COMPLETION'],\n",
       "       ['COMPLETION'],\n",
       "       ['PARTICIPATION'],\n",
       "       ['PARTICIPATION'],\n",
       "       ['COMPLETION'],\n",
       "       ['PARTICIPATION'],\n",
       "       ['FIRST CLASS'],\n",
       "       ['COMPLETION'],\n",
       "       ['PARTICIPATION'],\n",
       "       ['PARTICIPATION'],\n",
       "       ['COMPLETION'],\n",
       "       ['PARTICIPATION'],\n",
       "       ['PARTICIPATION'],\n",
       "       ['PARTICIPATION'],\n",
       "       ['COMPLETION'],\n",
       "       ['PARTICIPATION'],\n",
       "       ['COMPLETION'],\n",
       "       ['PARTICIPATION'],\n",
       "       ['PARTICIPATION'],\n",
       "       ['PARTICIPATION'],\n",
       "       ['COMPLETION'],\n",
       "       ['COMPLETION'],\n",
       "       ['COMPLETION'],\n",
       "       ['COMPLETION'],\n",
       "       ['PARTICIPATION'],\n",
       "       ['PARTICIPATION'],\n",
       "       ['PARTICIPATION'],\n",
       "       ['COMPLETION'],\n",
       "       ['COMPLETION'],\n",
       "       ['PARTICIPATION'],\n",
       "       ['PARTICIPATION'],\n",
       "       ['COMPLETION'],\n",
       "       ['COMPLETION'],\n",
       "       ['PARTICIPATION'],\n",
       "       ['COMPLETION'],\n",
       "       ['COMPLETION'],\n",
       "       ['PARTICIPATION'],\n",
       "       ['COMPLETION'],\n",
       "       ['COMPLETION'],\n",
       "       ['PARTICIPATION'],\n",
       "       ['PARTICIPATION'],\n",
       "       ['FIRST CLASS'],\n",
       "       ['PARTICIPATION'],\n",
       "       ['PARTICIPATION'],\n",
       "       ['PARTICIPATION'],\n",
       "       ['COMPLETION'],\n",
       "       ['COMPLETION'],\n",
       "       ['PARTICIPATION'],\n",
       "       ['COMPLETION'],\n",
       "       ['COMPLETION'],\n",
       "       ['PARTICIPATION'],\n",
       "       ['PARTICIPATION'],\n",
       "       ['PARTICIPATION'],\n",
       "       ['COMPLETION'],\n",
       "       ['PARTICIPATION'],\n",
       "       ['COMPLETION'],\n",
       "       ['COMPLETION'],\n",
       "       ['PARTICIPATION'],\n",
       "       ['COMPLETION'],\n",
       "       ['PARTICIPATION'],\n",
       "       ['FIRST CLASS'],\n",
       "       ['FIRST CLASS'],\n",
       "       ['FIRST CLASS'],\n",
       "       ['FIRST CLASS'],\n",
       "       ['COMPLETION'],\n",
       "       ['COMPLETION'],\n",
       "       ['FIRST CLASS'],\n",
       "       ['PARTICIPATION'],\n",
       "       ['PARTICIPATION'],\n",
       "       ['FIRST CLASS'],\n",
       "       ['PARTICIPATION'],\n",
       "       ['COMPLETION'],\n",
       "       ['FIRST CLASS'],\n",
       "       ['COMPLETION'],\n",
       "       ['FIRST CLASS'],\n",
       "       ['PARTICIPATION'],\n",
       "       ['PARTICIPATION'],\n",
       "       ['PARTICIPATION'],\n",
       "       ['PARTICIPATION'],\n",
       "       ['PARTICIPATION'],\n",
       "       ['PARTICIPATION'],\n",
       "       ['PARTICIPATION'],\n",
       "       ['FIRST CLASS'],\n",
       "       ['COMPLETION'],\n",
       "       ['FIRST CLASS'],\n",
       "       ['COMPLETION'],\n",
       "       ['COMPLETION'],\n",
       "       ['PARTICIPATION'],\n",
       "       ['PARTICIPATION'],\n",
       "       ['COMPLETION'],\n",
       "       ['COMPLETION'],\n",
       "       ['COMPLETION'],\n",
       "       ['COMPLETION'],\n",
       "       ['COMPLETION'],\n",
       "       ['COMPLETION'],\n",
       "       ['PARTICIPATION'],\n",
       "       ['PARTICIPATION'],\n",
       "       ['PARTICIPATION'],\n",
       "       ['PARTICIPATION'],\n",
       "       ['PARTICIPATION'],\n",
       "       ['PARTICIPATION'],\n",
       "       ['PARTICIPATION'],\n",
       "       ['FIRST CLASS'],\n",
       "       ['COMPLETION'],\n",
       "       ['PARTICIPATION'],\n",
       "       ['PARTICIPATION'],\n",
       "       ['PARTICIPATION'],\n",
       "       ['COMPLETION'],\n",
       "       ['COMPLETION'],\n",
       "       ['PARTICIPATION'],\n",
       "       ['PARTICIPATION'],\n",
       "       ['COMPLETION'],\n",
       "       ['FIRST CLASS'],\n",
       "       ['PARTICIPATION'],\n",
       "       ['COMPLETION']], dtype=object)"
      ]
     },
     "execution_count": 14,
     "metadata": {},
     "output_type": "execute_result"
    }
   ],
   "source": [
    "y"
   ]
  },
  {
   "cell_type": "code",
   "execution_count": 15,
   "metadata": {},
   "outputs": [],
   "source": [
    "x=student_certification.drop(['CERTIFICATE'],axis=1)"
   ]
  },
  {
   "cell_type": "code",
   "execution_count": 16,
   "metadata": {},
   "outputs": [
    {
     "data": {
      "text/plain": [
       "(367, 3)"
      ]
     },
     "execution_count": 16,
     "metadata": {},
     "output_type": "execute_result"
    }
   ],
   "source": [
    "x.shape"
   ]
  },
  {
   "cell_type": "code",
   "execution_count": 17,
   "metadata": {},
   "outputs": [
    {
     "data": {
      "text/html": [
       "<div>\n",
       "<style scoped>\n",
       "    .dataframe tbody tr th:only-of-type {\n",
       "        vertical-align: middle;\n",
       "    }\n",
       "\n",
       "    .dataframe tbody tr th {\n",
       "        vertical-align: top;\n",
       "    }\n",
       "\n",
       "    .dataframe thead th {\n",
       "        text-align: right;\n",
       "    }\n",
       "</style>\n",
       "<table border=\"1\" class=\"dataframe\">\n",
       "  <thead>\n",
       "    <tr style=\"text-align: right;\">\n",
       "      <th></th>\n",
       "      <th>ATTENDANCE</th>\n",
       "      <th>THEORY EXAM</th>\n",
       "      <th>DAILY ASSESSMENT</th>\n",
       "    </tr>\n",
       "  </thead>\n",
       "  <tbody>\n",
       "    <tr>\n",
       "      <td>0</td>\n",
       "      <td>20</td>\n",
       "      <td>38</td>\n",
       "      <td>25</td>\n",
       "    </tr>\n",
       "    <tr>\n",
       "      <td>1</td>\n",
       "      <td>15</td>\n",
       "      <td>25</td>\n",
       "      <td>0</td>\n",
       "    </tr>\n",
       "    <tr>\n",
       "      <td>2</td>\n",
       "      <td>20</td>\n",
       "      <td>31</td>\n",
       "      <td>25</td>\n",
       "    </tr>\n",
       "    <tr>\n",
       "      <td>3</td>\n",
       "      <td>20</td>\n",
       "      <td>25</td>\n",
       "      <td>25</td>\n",
       "    </tr>\n",
       "    <tr>\n",
       "      <td>4</td>\n",
       "      <td>20</td>\n",
       "      <td>17</td>\n",
       "      <td>15</td>\n",
       "    </tr>\n",
       "    <tr>\n",
       "      <td>...</td>\n",
       "      <td>...</td>\n",
       "      <td>...</td>\n",
       "      <td>...</td>\n",
       "    </tr>\n",
       "    <tr>\n",
       "      <td>362</td>\n",
       "      <td>15</td>\n",
       "      <td>0</td>\n",
       "      <td>10</td>\n",
       "    </tr>\n",
       "    <tr>\n",
       "      <td>363</td>\n",
       "      <td>20</td>\n",
       "      <td>9</td>\n",
       "      <td>25</td>\n",
       "    </tr>\n",
       "    <tr>\n",
       "      <td>364</td>\n",
       "      <td>15</td>\n",
       "      <td>20</td>\n",
       "      <td>25</td>\n",
       "    </tr>\n",
       "    <tr>\n",
       "      <td>365</td>\n",
       "      <td>15</td>\n",
       "      <td>0</td>\n",
       "      <td>10</td>\n",
       "    </tr>\n",
       "    <tr>\n",
       "      <td>366</td>\n",
       "      <td>20</td>\n",
       "      <td>23</td>\n",
       "      <td>10</td>\n",
       "    </tr>\n",
       "  </tbody>\n",
       "</table>\n",
       "<p>367 rows × 3 columns</p>\n",
       "</div>"
      ],
      "text/plain": [
       "     ATTENDANCE  THEORY EXAM  DAILY ASSESSMENT\n",
       "0            20           38                25\n",
       "1            15           25                 0\n",
       "2            20           31                25\n",
       "3            20           25                25\n",
       "4            20           17                15\n",
       "..          ...          ...               ...\n",
       "362          15            0                10\n",
       "363          20            9                25\n",
       "364          15           20                25\n",
       "365          15            0                10\n",
       "366          20           23                10\n",
       "\n",
       "[367 rows x 3 columns]"
      ]
     },
     "execution_count": 17,
     "metadata": {},
     "output_type": "execute_result"
    }
   ],
   "source": [
    "x"
   ]
  },
  {
   "cell_type": "markdown",
   "metadata": {},
   "source": [
    "## Divide the dataset into Training and Testing sets"
   ]
  },
  {
   "cell_type": "code",
   "execution_count": 18,
   "metadata": {},
   "outputs": [],
   "source": [
    "from sklearn.model_selection import train_test_split"
   ]
  },
  {
   "cell_type": "code",
   "execution_count": 19,
   "metadata": {},
   "outputs": [],
   "source": [
    "x_train,x_test,y_train,y_test=train_test_split(x,y,test_size=0.25,random_state=123)"
   ]
  },
  {
   "cell_type": "code",
   "execution_count": 20,
   "metadata": {},
   "outputs": [
    {
     "data": {
      "text/plain": [
       "(275, 3)"
      ]
     },
     "execution_count": 20,
     "metadata": {},
     "output_type": "execute_result"
    }
   ],
   "source": [
    "x_train.shape"
   ]
  },
  {
   "cell_type": "code",
   "execution_count": 21,
   "metadata": {},
   "outputs": [
    {
     "data": {
      "text/plain": [
       "(92, 3)"
      ]
     },
     "execution_count": 21,
     "metadata": {},
     "output_type": "execute_result"
    }
   ],
   "source": [
    "x_test.shape"
   ]
  },
  {
   "cell_type": "code",
   "execution_count": 22,
   "metadata": {},
   "outputs": [
    {
     "data": {
      "text/plain": [
       "(275, 1)"
      ]
     },
     "execution_count": 22,
     "metadata": {},
     "output_type": "execute_result"
    }
   ],
   "source": [
    "y_train.shape"
   ]
  },
  {
   "cell_type": "code",
   "execution_count": 23,
   "metadata": {},
   "outputs": [
    {
     "data": {
      "text/plain": [
       "(92, 1)"
      ]
     },
     "execution_count": 23,
     "metadata": {},
     "output_type": "execute_result"
    }
   ],
   "source": [
    "y_test.shape"
   ]
  },
  {
   "cell_type": "markdown",
   "metadata": {},
   "source": [
    "## Decision Tree Classifier"
   ]
  },
  {
   "cell_type": "code",
   "execution_count": 24,
   "metadata": {},
   "outputs": [],
   "source": [
    "from sklearn.tree import DecisionTreeClassifier"
   ]
  },
  {
   "cell_type": "code",
   "execution_count": 25,
   "metadata": {},
   "outputs": [],
   "source": [
    "DC=DecisionTreeClassifier(criterion='entropy')"
   ]
  },
  {
   "cell_type": "code",
   "execution_count": 26,
   "metadata": {},
   "outputs": [],
   "source": [
    "z=DC.fit(x_train,y_train)"
   ]
  },
  {
   "cell_type": "markdown",
   "metadata": {},
   "source": [
    "## Prediction"
   ]
  },
  {
   "cell_type": "code",
   "execution_count": 27,
   "metadata": {},
   "outputs": [],
   "source": [
    "y_pred=DC.predict(x_test)"
   ]
  },
  {
   "cell_type": "code",
   "execution_count": 28,
   "metadata": {},
   "outputs": [
    {
     "data": {
      "text/plain": [
       "array(['DISTINCTION', 'PARTICIPATION', 'COMPLETION', 'COMPLETION',\n",
       "       'FIRST CLASS', 'PARTICIPATION', 'PARTICIPATION', 'PARTICIPATION',\n",
       "       'PARTICIPATION', 'DISTINCTION', 'FIRST CLASS', 'COMPLETION',\n",
       "       'PARTICIPATION', 'FIRST CLASS', 'FIRST CLASS', 'PARTICIPATION',\n",
       "       'COMPLETION', 'PARTICIPATION', 'DISTINCTION', 'PARTICIPATION',\n",
       "       'DISTINCTION', 'PARTICIPATION', 'DISTINCTION', 'PARTICIPATION',\n",
       "       'PARTICIPATION', 'COMPLETION', 'PARTICIPATION', 'PARTICIPATION',\n",
       "       'PARTICIPATION', 'PARTICIPATION', 'COMPLETION', 'PARTICIPATION',\n",
       "       'PARTICIPATION', 'PARTICIPATION', 'COMPLETION', 'FIRST CLASS',\n",
       "       'COMPLETION', 'FIRST CLASS', 'FIRST CLASS', 'PARTICIPATION',\n",
       "       'FIRST CLASS', 'DISTINCTION', 'COMPLETION', 'FIRST CLASS',\n",
       "       'COMPLETION', 'DISTINCTION', 'PARTICIPATION', 'PARTICIPATION',\n",
       "       'COMPLETION', 'COMPLETION', 'PARTICIPATION', 'PARTICIPATION',\n",
       "       'COMPLETION', 'COMPLETION', 'PARTICIPATION', 'COMPLETION',\n",
       "       'COMPLETION', 'FIRST CLASS', 'COMPLETION', 'COMPLETION',\n",
       "       'DISTINCTION', 'PARTICIPATION', 'PARTICIPATION', 'COMPLETION',\n",
       "       'FIRST CLASS', 'COMPLETION', 'COMPLETION', 'PARTICIPATION',\n",
       "       'COMPLETION', 'FIRST CLASS', 'COMPLETION', 'COMPLETION',\n",
       "       'COMPLETION', 'COMPLETION', 'COMPLETION', 'FIRST CLASS',\n",
       "       'PARTICIPATION', 'FIRST CLASS', 'COMPLETION', 'COMPLETION',\n",
       "       'COMPLETION', 'PARTICIPATION', 'PARTICIPATION', 'PARTICIPATION',\n",
       "       'PARTICIPATION', 'FIRST CLASS', 'FIRST CLASS', 'DISTINCTION',\n",
       "       'PARTICIPATION', 'PARTICIPATION', 'FIRST CLASS', 'PARTICIPATION'],\n",
       "      dtype=object)"
      ]
     },
     "execution_count": 28,
     "metadata": {},
     "output_type": "execute_result"
    }
   ],
   "source": [
    "y_pred"
   ]
  },
  {
   "cell_type": "markdown",
   "metadata": {},
   "source": [
    "## Actual vs Predicted"
   ]
  },
  {
   "cell_type": "code",
   "execution_count": 29,
   "metadata": {},
   "outputs": [],
   "source": [
    "final=pd.DataFrame(y_test,columns=['Actual'])"
   ]
  },
  {
   "cell_type": "code",
   "execution_count": 30,
   "metadata": {},
   "outputs": [],
   "source": [
    "final['Predicted']=y_pred"
   ]
  },
  {
   "cell_type": "code",
   "execution_count": 31,
   "metadata": {},
   "outputs": [
    {
     "data": {
      "text/html": [
       "<div>\n",
       "<style scoped>\n",
       "    .dataframe tbody tr th:only-of-type {\n",
       "        vertical-align: middle;\n",
       "    }\n",
       "\n",
       "    .dataframe tbody tr th {\n",
       "        vertical-align: top;\n",
       "    }\n",
       "\n",
       "    .dataframe thead th {\n",
       "        text-align: right;\n",
       "    }\n",
       "</style>\n",
       "<table border=\"1\" class=\"dataframe\">\n",
       "  <thead>\n",
       "    <tr style=\"text-align: right;\">\n",
       "      <th></th>\n",
       "      <th>Actual</th>\n",
       "      <th>Predicted</th>\n",
       "    </tr>\n",
       "  </thead>\n",
       "  <tbody>\n",
       "    <tr>\n",
       "      <td>0</td>\n",
       "      <td>DISTINCTION</td>\n",
       "      <td>DISTINCTION</td>\n",
       "    </tr>\n",
       "    <tr>\n",
       "      <td>1</td>\n",
       "      <td>PARTICIPATION</td>\n",
       "      <td>PARTICIPATION</td>\n",
       "    </tr>\n",
       "    <tr>\n",
       "      <td>2</td>\n",
       "      <td>FIRST CLASS</td>\n",
       "      <td>COMPLETION</td>\n",
       "    </tr>\n",
       "    <tr>\n",
       "      <td>3</td>\n",
       "      <td>COMPLETION</td>\n",
       "      <td>COMPLETION</td>\n",
       "    </tr>\n",
       "    <tr>\n",
       "      <td>4</td>\n",
       "      <td>PARTICIPATION</td>\n",
       "      <td>FIRST CLASS</td>\n",
       "    </tr>\n",
       "    <tr>\n",
       "      <td>...</td>\n",
       "      <td>...</td>\n",
       "      <td>...</td>\n",
       "    </tr>\n",
       "    <tr>\n",
       "      <td>87</td>\n",
       "      <td>DISTINCTION</td>\n",
       "      <td>DISTINCTION</td>\n",
       "    </tr>\n",
       "    <tr>\n",
       "      <td>88</td>\n",
       "      <td>COMPLETION</td>\n",
       "      <td>PARTICIPATION</td>\n",
       "    </tr>\n",
       "    <tr>\n",
       "      <td>89</td>\n",
       "      <td>PARTICIPATION</td>\n",
       "      <td>PARTICIPATION</td>\n",
       "    </tr>\n",
       "    <tr>\n",
       "      <td>90</td>\n",
       "      <td>FIRST CLASS</td>\n",
       "      <td>FIRST CLASS</td>\n",
       "    </tr>\n",
       "    <tr>\n",
       "      <td>91</td>\n",
       "      <td>PARTICIPATION</td>\n",
       "      <td>PARTICIPATION</td>\n",
       "    </tr>\n",
       "  </tbody>\n",
       "</table>\n",
       "<p>92 rows × 2 columns</p>\n",
       "</div>"
      ],
      "text/plain": [
       "           Actual      Predicted\n",
       "0     DISTINCTION    DISTINCTION\n",
       "1   PARTICIPATION  PARTICIPATION\n",
       "2     FIRST CLASS     COMPLETION\n",
       "3      COMPLETION     COMPLETION\n",
       "4   PARTICIPATION    FIRST CLASS\n",
       "..            ...            ...\n",
       "87    DISTINCTION    DISTINCTION\n",
       "88     COMPLETION  PARTICIPATION\n",
       "89  PARTICIPATION  PARTICIPATION\n",
       "90    FIRST CLASS    FIRST CLASS\n",
       "91  PARTICIPATION  PARTICIPATION\n",
       "\n",
       "[92 rows x 2 columns]"
      ]
     },
     "execution_count": 31,
     "metadata": {},
     "output_type": "execute_result"
    }
   ],
   "source": [
    "final"
   ]
  },
  {
   "cell_type": "code",
   "execution_count": 32,
   "metadata": {},
   "outputs": [
    {
     "data": {
      "text/plain": [
       "Actual\n",
       "COMPLETION       28\n",
       "DISTINCTION      12\n",
       "FIRST CLASS      15\n",
       "PARTICIPATION    37\n",
       "dtype: int64"
      ]
     },
     "execution_count": 32,
     "metadata": {},
     "output_type": "execute_result"
    }
   ],
   "source": [
    "final.groupby('Actual').size()"
   ]
  },
  {
   "cell_type": "code",
   "execution_count": 33,
   "metadata": {},
   "outputs": [
    {
     "data": {
      "text/plain": [
       "Predicted\n",
       "COMPLETION       30\n",
       "DISTINCTION       9\n",
       "FIRST CLASS      17\n",
       "PARTICIPATION    36\n",
       "dtype: int64"
      ]
     },
     "execution_count": 33,
     "metadata": {},
     "output_type": "execute_result"
    }
   ],
   "source": [
    "final.groupby('Predicted').size()"
   ]
  },
  {
   "cell_type": "code",
   "execution_count": 34,
   "metadata": {},
   "outputs": [
    {
     "data": {
      "text/plain": [
       "<matplotlib.axes._subplots.AxesSubplot at 0x1e875d50608>"
      ]
     },
     "execution_count": 34,
     "metadata": {},
     "output_type": "execute_result"
    },
    {
     "data": {
      "image/png": "[encoded data removed]",
      "text/plain": [
       "<Figure size 432x288 with 1 Axes>"
      ]
     },
     "metadata": {
      "needs_background": "light"
     },
     "output_type": "display_data"
    }
   ],
   "source": [
    "sns.countplot(final['Actual'],label='count')"
   ]
  },
  {
   "cell_type": "code",
   "execution_count": 35,
   "metadata": {},
   "outputs": [
    {
     "data": {
      "text/plain": [
       "<matplotlib.axes._subplots.AxesSubplot at 0x1e875dbf948>"
      ]
     },
     "execution_count": 35,
     "metadata": {},
     "output_type": "execute_result"
    },
    {
     "data": {
      "image/png": "[encoded data removed]",
      "text/plain": [
       "<Figure size 432x288 with 1 Axes>"
      ]
     },
     "metadata": {
      "needs_background": "light"
     },
     "output_type": "display_data"
    }
   ],
   "source": [
    "sns.countplot(final['Predicted'],label='count')"
   ]
  },
  {
   "cell_type": "markdown",
   "metadata": {},
   "source": [
    "## Performance Metrics"
   ]
  },
  {
   "cell_type": "code",
   "execution_count": 36,
   "metadata": {},
   "outputs": [],
   "source": [
    "from sklearn.metrics import accuracy_score,confusion_matrix"
   ]
  },
  {
   "cell_type": "markdown",
   "metadata": {},
   "source": [
    "## Accuracy Score"
   ]
  },
  {
   "cell_type": "code",
   "execution_count": 37,
   "metadata": {},
   "outputs": [],
   "source": [
    "acc=accuracy_score(y_test,y_pred)"
   ]
  },
  {
   "cell_type": "code",
   "execution_count": 38,
   "metadata": {},
   "outputs": [
    {
     "data": {
      "text/plain": [
       "0.7608695652173914"
      ]
     },
     "execution_count": 38,
     "metadata": {},
     "output_type": "execute_result"
    }
   ],
   "source": [
    "acc"
   ]
  },
  {
   "cell_type": "markdown",
   "metadata": {},
   "source": [
    "## Confusion Matrix"
   ]
  },
  {
   "cell_type": "code",
   "execution_count": 39,
   "metadata": {},
   "outputs": [],
   "source": [
    "a=confusion_matrix(y_test,y_pred)"
   ]
  },
  {
   "cell_type": "code",
   "execution_count": 40,
   "metadata": {},
   "outputs": [],
   "source": [
    "mat=pd.DataFrame(a,columns=['Comp','Dist','FC','Part'],index=['Comp','Dist','FC','Part'])"
   ]
  },
  {
   "cell_type": "code",
   "execution_count": 41,
   "metadata": {},
   "outputs": [
    {
     "data": {
      "text/html": [
       "<div>\n",
       "<style scoped>\n",
       "    .dataframe tbody tr th:only-of-type {\n",
       "        vertical-align: middle;\n",
       "    }\n",
       "\n",
       "    .dataframe tbody tr th {\n",
       "        vertical-align: top;\n",
       "    }\n",
       "\n",
       "    .dataframe thead th {\n",
       "        text-align: right;\n",
       "    }\n",
       "</style>\n",
       "<table border=\"1\" class=\"dataframe\">\n",
       "  <thead>\n",
       "    <tr style=\"text-align: right;\">\n",
       "      <th></th>\n",
       "      <th>Comp</th>\n",
       "      <th>Dist</th>\n",
       "      <th>FC</th>\n",
       "      <th>Part</th>\n",
       "    </tr>\n",
       "  </thead>\n",
       "  <tbody>\n",
       "    <tr>\n",
       "      <td>Comp</td>\n",
       "      <td>21</td>\n",
       "      <td>2</td>\n",
       "      <td>3</td>\n",
       "      <td>2</td>\n",
       "    </tr>\n",
       "    <tr>\n",
       "      <td>Dist</td>\n",
       "      <td>2</td>\n",
       "      <td>6</td>\n",
       "      <td>4</td>\n",
       "      <td>0</td>\n",
       "    </tr>\n",
       "    <tr>\n",
       "      <td>FC</td>\n",
       "      <td>5</td>\n",
       "      <td>1</td>\n",
       "      <td>9</td>\n",
       "      <td>0</td>\n",
       "    </tr>\n",
       "    <tr>\n",
       "      <td>Part</td>\n",
       "      <td>2</td>\n",
       "      <td>0</td>\n",
       "      <td>1</td>\n",
       "      <td>34</td>\n",
       "    </tr>\n",
       "  </tbody>\n",
       "</table>\n",
       "</div>"
      ],
      "text/plain": [
       "      Comp  Dist  FC  Part\n",
       "Comp    21     2   3     2\n",
       "Dist     2     6   4     0\n",
       "FC       5     1   9     0\n",
       "Part     2     0   1    34"
      ]
     },
     "execution_count": 41,
     "metadata": {},
     "output_type": "execute_result"
    }
   ],
   "source": [
    "mat"
   ]
  },
  {
   "cell_type": "markdown",
   "metadata": {},
   "source": [
    "## Visualize the Decision Tree"
   ]
  },
  {
   "cell_type": "code",
   "execution_count": 42,
   "metadata": {},
   "outputs": [],
   "source": [
    "from sklearn import tree"
   ]
  },
  {
   "cell_type": "code",
   "execution_count": 43,
   "metadata": {},
   "outputs": [
    {
     "data": {
      "text/plain": [
       "<Figure size 3600x2160 with 0 Axes>"
      ]
     },
     "metadata": {},
     "output_type": "display_data"
    }
   ],
   "source": [
    "fig=plt.figure(figsize=(50,30))"
   ]
  },
  {
   "cell_type": "code",
   "execution_count": 44,
   "metadata": {},
   "outputs": [
    {
     "data": {
      "image/png": "[encoded data removed]",
      "text/plain": [
       "<Figure size 432x288 with 1 Axes>"
      ]
     },
     "metadata": {
      "needs_background": "light"
     },
     "output_type": "display_data"
    }
   ],
   "source": [
    "_=tree.plot_tree(z,feature_names=final.Actual,class_names=final.Predicted,filled=True)"
   ]
  },
  {
   "cell_type": "code",
   "execution_count": null,
   "metadata": {},
   "outputs": [],
   "source": []
  }
 ],
 "metadata": {
  "kernelspec": {
   "display_name": "Python 3",
   "language": "python",
   "name": "python3"
  },
  "language_info": {
   "codemirror_mode": {
    "name": "ipython",
    "version": 3
   },
   "file_extension": ".py",
   "mimetype": "text/x-python",
   "name": "python",
   "nbconvert_exporter": "python",
   "pygments_lexer": "ipython3",
   "version": "3.7.4"
  }
 },
 "nbformat": 4,
 "nbformat_minor": 2
}
